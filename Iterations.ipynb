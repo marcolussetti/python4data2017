{
 "cells": [
  {
   "cell_type": "markdown",
   "metadata": {
    "slideshow": {
     "slide_type": "slide"
    }
   },
   "source": [
    "# Interations in Python\n",
    "The inspiration for this section of the talk comes from and borrows heavily upon Ned Batchelder's PyCon 2013 talk titled _\"Loop like a native: while, for, iterators, generators\"_.\n",
    "\n",
    "Please see https://nedbatchelder.com/text/iter.html for the original material which is a lot more extensive."
   ]
  },
  {
   "cell_type": "markdown",
   "metadata": {
    "slideshow": {
     "slide_type": "slide"
    }
   },
   "source": [
    "### Looping over a list"
   ]
  },
  {
   "cell_type": "code",
   "execution_count": 5,
   "metadata": {
    "ExecuteTime": {
     "end_time": "2017-10-25T17:04:19.423955Z",
     "start_time": "2017-10-25T17:04:19.415497Z"
    },
    "slideshow": {
     "slide_type": "-"
    }
   },
   "outputs": [
    {
     "data": {
      "text/plain": [
       "['Max', 'Chloe', 'Bella', 'Oliver', 'Kitty Purry']"
      ]
     },
     "execution_count": 5,
     "metadata": {},
     "output_type": "execute_result"
    }
   ],
   "source": [
    "cats = ['Max', 'Chloe', 'Bella', 'Oliver', 'Kitty Purry']\n",
    "cats"
   ]
  },
  {
   "cell_type": "markdown",
   "metadata": {
    "slideshow": {
     "slide_type": "subslide"
    }
   },
   "source": [
    "##### First attempt"
   ]
  },
  {
   "cell_type": "code",
   "execution_count": 6,
   "metadata": {
    "ExecuteTime": {
     "end_time": "2017-10-25T17:04:20.759795Z",
     "start_time": "2017-10-25T17:04:20.752071Z"
    }
   },
   "outputs": [
    {
     "name": "stdout",
     "output_type": "stream",
     "text": [
      "Max\n",
      "Chloe\n",
      "Bella\n",
      "Oliver\n",
      "Kitty Purry\n"
     ]
    }
   ],
   "source": [
    "for i in range(len(cats)):\n",
    "    print(cats[i])"
   ]
  },
  {
   "cell_type": "markdown",
   "metadata": {
    "slideshow": {
     "slide_type": "subslide"
    }
   },
   "source": [
    "##### Second attempt"
   ]
  },
  {
   "cell_type": "code",
   "execution_count": 7,
   "metadata": {
    "ExecuteTime": {
     "end_time": "2017-10-25T17:04:22.793622Z",
     "start_time": "2017-10-25T17:04:22.785839Z"
    }
   },
   "outputs": [
    {
     "name": "stdout",
     "output_type": "stream",
     "text": [
      "Max\n",
      "Chloe\n",
      "Bella\n",
      "Oliver\n",
      "Kitty Purry\n"
     ]
    }
   ],
   "source": [
    "for cat in cats:\n",
    "    print(cat)"
   ]
  },
  {
   "cell_type": "markdown",
   "metadata": {
    "slideshow": {
     "slide_type": "slide"
    }
   },
   "source": [
    "### Looping over a dictionary"
   ]
  },
  {
   "cell_type": "code",
   "execution_count": 8,
   "metadata": {
    "ExecuteTime": {
     "end_time": "2017-10-25T17:04:24.538948Z",
     "start_time": "2017-10-25T17:04:24.533072Z"
    }
   },
   "outputs": [],
   "source": [
    "cats = {'Max': 20000, 'Chloe': 15000, 'Bella': 10000, 'Oliver': 5000, 'Kitty Purry': 1}\n",
    "# These are apparently real cat names, and the first 4 are the most common ones in the USA"
   ]
  },
  {
   "cell_type": "code",
   "execution_count": 9,
   "metadata": {
    "ExecuteTime": {
     "end_time": "2017-10-25T17:04:25.287185Z",
     "start_time": "2017-10-25T17:04:25.278896Z"
    }
   },
   "outputs": [
    {
     "name": "stdout",
     "output_type": "stream",
     "text": [
      "Max\n",
      "Chloe\n",
      "Bella\n",
      "Oliver\n",
      "Kitty Purry\n"
     ]
    }
   ],
   "source": [
    "for cat_name in cats:\n",
    "    print(cat_name)"
   ]
  },
  {
   "cell_type": "markdown",
   "metadata": {
    "slideshow": {
     "slide_type": "subslide"
    }
   },
   "source": [
    "So this is actually just looping over looping over keys.\n",
    "How do we get the counts?"
   ]
  },
  {
   "cell_type": "code",
   "execution_count": 10,
   "metadata": {
    "ExecuteTime": {
     "end_time": "2017-10-25T17:04:26.495590Z",
     "start_time": "2017-10-25T17:04:26.487172Z"
    }
   },
   "outputs": [
    {
     "name": "stdout",
     "output_type": "stream",
     "text": [
      "20000\n",
      "15000\n",
      "10000\n",
      "5000\n",
      "1\n"
     ]
    }
   ],
   "source": [
    "for cat_name in cats:\n",
    "    print(cats[cat_name])"
   ]
  },
  {
   "cell_type": "markdown",
   "metadata": {
    "ExecuteTime": {
     "end_time": "2017-10-25T07:30:38.749342Z",
     "start_time": "2017-10-25T07:30:38.743021Z"
    },
    "slideshow": {
     "slide_type": "subslide"
    }
   },
   "source": [
    "That worked, but it's not very elegant or readable. We can do better."
   ]
  },
  {
   "cell_type": "code",
   "execution_count": 11,
   "metadata": {
    "ExecuteTime": {
     "end_time": "2017-10-25T17:04:28.201085Z",
     "start_time": "2017-10-25T17:04:28.193063Z"
    }
   },
   "outputs": [
    {
     "name": "stdout",
     "output_type": "stream",
     "text": [
      "20000\n",
      "15000\n",
      "10000\n",
      "5000\n",
      "1\n"
     ]
    }
   ],
   "source": [
    "for cat_count in cats.values():\n",
    "    print(cat_count)"
   ]
  },
  {
   "cell_type": "markdown",
   "metadata": {
    "slideshow": {
     "slide_type": "subslide"
    }
   },
   "source": [
    "In reality though, that doesn't seem very useful. Having counts like that is probably not all that useful.\n",
    "This is especially given the order of a dictionary cannot be relied upon."
   ]
  },
  {
   "cell_type": "code",
   "execution_count": 12,
   "metadata": {
    "ExecuteTime": {
     "end_time": "2017-10-25T17:04:29.441139Z",
     "start_time": "2017-10-25T17:04:29.430813Z"
    }
   },
   "outputs": [
    {
     "name": "stdout",
     "output_type": "stream",
     "text": [
      "Max 20000\n",
      "Chloe 15000\n",
      "Bella 10000\n",
      "Oliver 5000\n",
      "Kitty Purry 1\n"
     ]
    }
   ],
   "source": [
    "for cat_name in cats:\n",
    "    print(cat_name, cats[cat_name])"
   ]
  },
  {
   "cell_type": "markdown",
   "metadata": {
    "slideshow": {
     "slide_type": "subslide"
    }
   },
   "source": [
    "That works, but again it's not very expressive. Python gives dictionaries a .items() method."
   ]
  },
  {
   "cell_type": "code",
   "execution_count": 13,
   "metadata": {
    "ExecuteTime": {
     "end_time": "2017-10-25T17:04:31.266660Z",
     "start_time": "2017-10-25T17:04:31.256541Z"
    }
   },
   "outputs": [
    {
     "name": "stdout",
     "output_type": "stream",
     "text": [
      "Max 20000\n",
      "Chloe 15000\n",
      "Bella 10000\n",
      "Oliver 5000\n",
      "Kitty Purry 1\n"
     ]
    }
   ],
   "source": [
    "for cat_tuple in cats.items():\n",
    "    print(cat_tuple[0], cat_tuple[1])"
   ]
  },
  {
   "cell_type": "markdown",
   "metadata": {
    "slideshow": {
     "slide_type": "subslide"
    }
   },
   "source": [
    "That's a bit better, as we're not repeating cats, but we can actually make it a lot clearer by using tuple unpacking."
   ]
  },
  {
   "cell_type": "code",
   "execution_count": 14,
   "metadata": {
    "ExecuteTime": {
     "end_time": "2017-10-25T17:04:32.736746Z",
     "start_time": "2017-10-25T17:04:32.729283Z"
    }
   },
   "outputs": [
    {
     "data": {
      "text/plain": [
       "('Max', 20000)"
      ]
     },
     "execution_count": 14,
     "metadata": {},
     "output_type": "execute_result"
    }
   ],
   "source": [
    "# Example of a tuple\n",
    "list(cats.items())[0]"
   ]
  },
  {
   "cell_type": "code",
   "execution_count": 15,
   "metadata": {
    "ExecuteTime": {
     "end_time": "2017-10-25T17:04:33.910257Z",
     "start_time": "2017-10-25T17:04:33.901191Z"
    }
   },
   "outputs": [
    {
     "name": "stdout",
     "output_type": "stream",
     "text": [
      "Max 20000\n",
      "Chloe 15000\n",
      "Bella 10000\n",
      "Oliver 5000\n",
      "Kitty Purry 1\n"
     ]
    }
   ],
   "source": [
    "# Unpacking the tuple\n",
    "for cat_name, cat_count in cats.items():\n",
    "    print(cat_name, cat_count)"
   ]
  },
  {
   "cell_type": "markdown",
   "metadata": {
    "slideshow": {
     "slide_type": "subslide"
    }
   },
   "source": [
    "###### .keys() - what is it for?\n",
    "\n",
    "PEP20 talks about the Python philosophy and is a good guide for what one should strive to achieve when writing Python code and among other things it says:\n",
    "\n",
    "> __There should be one-- and preferably only one --obvious way to do it.__\n",
    "\n",
    "> Although that way may not be obvious at first unless you're Dutch."
   ]
  },
  {
   "cell_type": "code",
   "execution_count": 16,
   "metadata": {
    "ExecuteTime": {
     "end_time": "2017-10-25T17:04:35.728530Z",
     "start_time": "2017-10-25T17:04:35.720970Z"
    }
   },
   "outputs": [
    {
     "name": "stdout",
     "output_type": "stream",
     "text": [
      "Max\n",
      "Chloe\n",
      "Bella\n",
      "Oliver\n",
      "Kitty Purry\n"
     ]
    }
   ],
   "source": [
    "for cat in cats.keys():\n",
    "    print(cat)"
   ]
  },
  {
   "cell_type": "code",
   "execution_count": 17,
   "metadata": {
    "ExecuteTime": {
     "end_time": "2017-10-25T17:04:38.151144Z",
     "start_time": "2017-10-25T17:04:38.144234Z"
    }
   },
   "outputs": [
    {
     "data": {
      "text/plain": [
       "dict_keys"
      ]
     },
     "execution_count": 17,
     "metadata": {},
     "output_type": "execute_result"
    }
   ],
   "source": [
    "type(cats.keys())"
   ]
  },
  {
   "cell_type": "markdown",
   "metadata": {
    "slideshow": {
     "slide_type": "subslide"
    }
   },
   "source": [
    "It's actually to be used with set operations."
   ]
  },
  {
   "cell_type": "code",
   "execution_count": 20,
   "metadata": {
    "ExecuteTime": {
     "end_time": "2017-10-25T17:06:31.182975Z",
     "start_time": "2017-10-25T17:06:31.169937Z"
    }
   },
   "outputs": [
    {
     "ename": "TypeError",
     "evalue": "unsupported operand type(s) for -: 'dict' and 'set'",
     "output_type": "error",
     "traceback": [
      "\u001b[0;31m---------------------------------------------------------------------------\u001b[0m",
      "\u001b[0;31mTypeError\u001b[0m                                 Traceback (most recent call last)",
      "\u001b[0;32m<ipython-input-20-60e852a0714f>\u001b[0m in \u001b[0;36m<module>\u001b[0;34m()\u001b[0m\n\u001b[0;32m----> 1\u001b[0;31m \u001b[0mcats\u001b[0m \u001b[0;34m-\u001b[0m \u001b[0;34m{\u001b[0m\u001b[0;34m'Kitty Purry'\u001b[0m\u001b[0;34m}\u001b[0m\u001b[0;34m\u001b[0m\u001b[0m\n\u001b[0m",
      "\u001b[0;31mTypeError\u001b[0m: unsupported operand type(s) for -: 'dict' and 'set'"
     ]
    }
   ],
   "source": [
    "cats - {'Kitty Purry'}"
   ]
  },
  {
   "cell_type": "code",
   "execution_count": 21,
   "metadata": {
    "ExecuteTime": {
     "end_time": "2017-10-25T17:06:32.101715Z",
     "start_time": "2017-10-25T17:06:32.094035Z"
    }
   },
   "outputs": [
    {
     "data": {
      "text/plain": [
       "{'Bella', 'Chloe', 'Max', 'Oliver'}"
      ]
     },
     "execution_count": 21,
     "metadata": {},
     "output_type": "execute_result"
    }
   ],
   "source": [
    "cats.keys() - {'Kitty Purry'}"
   ]
  },
  {
   "cell_type": "markdown",
   "metadata": {},
   "source": [
    "So .keys() exist as to return what is in effect a set that can be used for normal set operations."
   ]
  },
  {
   "cell_type": "markdown",
   "metadata": {
    "slideshow": {
     "slide_type": "slide"
    }
   },
   "source": [
    "<center>![Kitty Purry](http://i.perezhilton.com/wp-content/uploads/2012/01/katy-perrys-kitty-purrah__oPt.jpg \"Kitty Purry\")</center>"
   ]
  }
 ],
 "metadata": {
  "celltoolbar": "Slideshow",
  "kernelspec": {
   "display_name": "Python 3",
   "language": "python",
   "name": "python3"
  },
  "language_info": {
   "codemirror_mode": {
    "name": "ipython",
    "version": 3
   },
   "file_extension": ".py",
   "mimetype": "text/x-python",
   "name": "python",
   "nbconvert_exporter": "python",
   "pygments_lexer": "ipython3",
   "version": "3.6.2"
  }
 },
 "nbformat": 4,
 "nbformat_minor": 2
}
