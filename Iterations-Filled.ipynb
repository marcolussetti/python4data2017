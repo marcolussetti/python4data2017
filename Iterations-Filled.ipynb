{
 "cells": [
  {
   "cell_type": "markdown",
   "metadata": {
    "slideshow": {
     "slide_type": "slide"
    }
   },
   "source": [
    "# Interations in Python\n",
    "The inspiration for this section of the talk comes from and borrows heavily upon Ned Batchelder's PyCon 2013 talk titled _\"Loop like a native: while, for, iterators, generators\"_.\n",
    "\n",
    "Please see https://nedbatchelder.com/text/iter.html for the original material which is a lot more extensive."
   ]
  },
  {
   "cell_type": "markdown",
   "metadata": {
    "slideshow": {
     "slide_type": "slide"
    }
   },
   "source": [
    "### Looping over a list"
   ]
  },
  {
   "cell_type": "code",
   "execution_count": 1,
   "metadata": {
    "ExecuteTime": {
     "end_time": "2017-10-26T21:35:13.627433Z",
     "start_time": "2017-10-26T21:35:13.598019Z"
    },
    "slideshow": {
     "slide_type": "-"
    }
   },
   "outputs": [
    {
     "data": {
      "text/plain": [
       "['Max', 'Chloe', 'Bella', 'Oliver', 'Kitty Purry']"
      ]
     },
     "execution_count": 1,
     "metadata": {},
     "output_type": "execute_result"
    }
   ],
   "source": [
    "cats = ['Max', 'Chloe', 'Bella', 'Oliver', 'Kitty Purry']\n",
    "cats"
   ]
  },
  {
   "cell_type": "markdown",
   "metadata": {
    "slideshow": {
     "slide_type": "subslide"
    }
   },
   "source": [
    "##### First attempt"
   ]
  },
  {
   "cell_type": "code",
   "execution_count": 2,
   "metadata": {
    "ExecuteTime": {
     "end_time": "2017-10-26T21:35:13.736781Z",
     "start_time": "2017-10-26T21:35:13.630516Z"
    }
   },
   "outputs": [
    {
     "name": "stdout",
     "output_type": "stream",
     "text": [
      "Max\n",
      "Chloe\n",
      "Bella\n",
      "Oliver\n",
      "Kitty Purry\n"
     ]
    }
   ],
   "source": [
    "for i in range(len(cats)):\n",
    "    print(cats[i])"
   ]
  },
  {
   "cell_type": "markdown",
   "metadata": {
    "slideshow": {
     "slide_type": "subslide"
    }
   },
   "source": [
    "##### Second attempt"
   ]
  },
  {
   "cell_type": "code",
   "execution_count": 3,
   "metadata": {
    "ExecuteTime": {
     "end_time": "2017-10-26T21:35:13.827329Z",
     "start_time": "2017-10-26T21:35:13.740488Z"
    }
   },
   "outputs": [
    {
     "name": "stdout",
     "output_type": "stream",
     "text": [
      "Max\n",
      "Chloe\n",
      "Bella\n",
      "Oliver\n",
      "Kitty Purry\n"
     ]
    }
   ],
   "source": [
    "for cat in cats:\n",
    "    print(cat)"
   ]
  },
  {
   "cell_type": "markdown",
   "metadata": {
    "slideshow": {
     "slide_type": "slide"
    }
   },
   "source": [
    "### Looping over a dictionary"
   ]
  },
  {
   "cell_type": "code",
   "execution_count": 4,
   "metadata": {
    "ExecuteTime": {
     "end_time": "2017-10-26T21:35:13.917397Z",
     "start_time": "2017-10-26T21:35:13.831368Z"
    }
   },
   "outputs": [],
   "source": [
    "cats = {'Oliver': 5000, 'Max': 20000, 'Chloe': 15000, 'Bella': 10000, 'Kitty Purry': 1}\n",
    "# These are apparently real cat names, and the first 4 are the most common ones in the USA"
   ]
  },
  {
   "cell_type": "code",
   "execution_count": 5,
   "metadata": {
    "ExecuteTime": {
     "end_time": "2017-10-26T21:35:14.011418Z",
     "start_time": "2017-10-26T21:35:13.921945Z"
    }
   },
   "outputs": [
    {
     "name": "stdout",
     "output_type": "stream",
     "text": [
      "Oliver\n",
      "Max\n",
      "Chloe\n",
      "Bella\n",
      "Kitty Purry\n"
     ]
    }
   ],
   "source": [
    "for cat_name in cats:\n",
    "    print(cat_name)"
   ]
  },
  {
   "cell_type": "markdown",
   "metadata": {
    "slideshow": {
     "slide_type": "subslide"
    }
   },
   "source": [
    "So this is actually just looping over looping over keys.\n",
    "How do we get the counts?"
   ]
  },
  {
   "cell_type": "code",
   "execution_count": 6,
   "metadata": {
    "ExecuteTime": {
     "end_time": "2017-10-26T21:35:14.169911Z",
     "start_time": "2017-10-26T21:35:14.014927Z"
    }
   },
   "outputs": [
    {
     "name": "stdout",
     "output_type": "stream",
     "text": [
      "5000\n",
      "20000\n",
      "15000\n",
      "10000\n",
      "1\n"
     ]
    }
   ],
   "source": [
    "for cat_name in cats:\n",
    "    print(cats[cat_name])"
   ]
  },
  {
   "cell_type": "markdown",
   "metadata": {
    "ExecuteTime": {
     "end_time": "2017-10-25T07:30:38.749342Z",
     "start_time": "2017-10-25T07:30:38.743021Z"
    },
    "slideshow": {
     "slide_type": "subslide"
    }
   },
   "source": [
    "That worked, but it's not very elegant or readable. We can do better."
   ]
  },
  {
   "cell_type": "code",
   "execution_count": 7,
   "metadata": {
    "ExecuteTime": {
     "end_time": "2017-10-26T21:35:14.321943Z",
     "start_time": "2017-10-26T21:35:14.174100Z"
    }
   },
   "outputs": [
    {
     "name": "stdout",
     "output_type": "stream",
     "text": [
      "5000\n",
      "20000\n",
      "15000\n",
      "10000\n",
      "1\n"
     ]
    }
   ],
   "source": [
    "for cat_count in cats.values():\n",
    "    print(cat_count)"
   ]
  },
  {
   "cell_type": "markdown",
   "metadata": {
    "slideshow": {
     "slide_type": "subslide"
    }
   },
   "source": [
    "In reality though, that doesn't seem very useful. Having counts like that is probably not all that useful.\n",
    "This is especially given the order of a dictionary cannot be relied upon."
   ]
  },
  {
   "cell_type": "code",
   "execution_count": 8,
   "metadata": {
    "ExecuteTime": {
     "end_time": "2017-10-26T21:35:14.413404Z",
     "start_time": "2017-10-26T21:35:14.325521Z"
    }
   },
   "outputs": [
    {
     "name": "stdout",
     "output_type": "stream",
     "text": [
      "Oliver 5000\n",
      "Max 20000\n",
      "Chloe 15000\n",
      "Bella 10000\n",
      "Kitty Purry 1\n"
     ]
    }
   ],
   "source": [
    "for cat_name in cats:\n",
    "    print(cat_name, cats[cat_name])"
   ]
  },
  {
   "cell_type": "markdown",
   "metadata": {
    "slideshow": {
     "slide_type": "subslide"
    }
   },
   "source": [
    "That works, but again it's not very expressive. Python gives dictionaries a .items() method."
   ]
  },
  {
   "cell_type": "code",
   "execution_count": 9,
   "metadata": {
    "ExecuteTime": {
     "end_time": "2017-10-26T21:35:14.505379Z",
     "start_time": "2017-10-26T21:35:14.416730Z"
    }
   },
   "outputs": [
    {
     "name": "stdout",
     "output_type": "stream",
     "text": [
      "Oliver 5000\n",
      "Max 20000\n",
      "Chloe 15000\n",
      "Bella 10000\n",
      "Kitty Purry 1\n"
     ]
    }
   ],
   "source": [
    "for cat_tuple in cats.items():\n",
    "    print(cat_tuple[0], cat_tuple[1])"
   ]
  },
  {
   "cell_type": "markdown",
   "metadata": {
    "slideshow": {
     "slide_type": "subslide"
    }
   },
   "source": [
    "That's a bit better, as we're not repeating cats, but we can actually make it a lot clearer by using tuple unpacking."
   ]
  },
  {
   "cell_type": "code",
   "execution_count": 10,
   "metadata": {
    "ExecuteTime": {
     "end_time": "2017-10-26T21:35:14.595203Z",
     "start_time": "2017-10-26T21:35:14.508884Z"
    }
   },
   "outputs": [
    {
     "data": {
      "text/plain": [
       "('Oliver', 5000)"
      ]
     },
     "execution_count": 10,
     "metadata": {},
     "output_type": "execute_result"
    }
   ],
   "source": [
    "# Example of a tuple\n",
    "list(cats.items())[0]"
   ]
  },
  {
   "cell_type": "code",
   "execution_count": 11,
   "metadata": {
    "ExecuteTime": {
     "end_time": "2017-10-26T21:35:14.679310Z",
     "start_time": "2017-10-26T21:35:14.600198Z"
    }
   },
   "outputs": [
    {
     "name": "stdout",
     "output_type": "stream",
     "text": [
      "Oliver 5000\n",
      "Max 20000\n",
      "Chloe 15000\n",
      "Bella 10000\n",
      "Kitty Purry 1\n"
     ]
    }
   ],
   "source": [
    "# Unpacking the tuple\n",
    "for cat_name, cat_count in cats.items():\n",
    "    print(cat_name, cat_count)"
   ]
  },
  {
   "cell_type": "markdown",
   "metadata": {
    "slideshow": {
     "slide_type": "subslide"
    }
   },
   "source": [
    "###### .keys() - what is it for?\n",
    "\n",
    "PEP20 talks about the Python philosophy and is a good guide for what one should strive to achieve when writing Python code and among other things it says:\n",
    "\n",
    "> __There should be one-- and preferably only one --obvious way to do it.__\n",
    "\n",
    "> Although that way may not be obvious at first unless you're Dutch."
   ]
  },
  {
   "cell_type": "code",
   "execution_count": 12,
   "metadata": {
    "ExecuteTime": {
     "end_time": "2017-10-26T21:35:14.770316Z",
     "start_time": "2017-10-26T21:35:14.684094Z"
    }
   },
   "outputs": [
    {
     "name": "stdout",
     "output_type": "stream",
     "text": [
      "Oliver\n",
      "Max\n",
      "Chloe\n",
      "Bella\n",
      "Kitty Purry\n"
     ]
    }
   ],
   "source": [
    "for cat in cats.keys():\n",
    "    print(cat)"
   ]
  },
  {
   "cell_type": "code",
   "execution_count": 13,
   "metadata": {
    "ExecuteTime": {
     "end_time": "2017-10-26T21:35:14.853611Z",
     "start_time": "2017-10-26T21:35:14.775135Z"
    }
   },
   "outputs": [
    {
     "data": {
      "text/plain": [
       "dict_keys"
      ]
     },
     "execution_count": 13,
     "metadata": {},
     "output_type": "execute_result"
    }
   ],
   "source": [
    "type(cats.keys())"
   ]
  },
  {
   "cell_type": "markdown",
   "metadata": {
    "slideshow": {
     "slide_type": "subslide"
    }
   },
   "source": [
    "It's actually to be used with set operations."
   ]
  },
  {
   "cell_type": "code",
   "execution_count": 14,
   "metadata": {
    "ExecuteTime": {
     "end_time": "2017-10-26T21:35:14.942665Z",
     "start_time": "2017-10-26T21:35:14.858276Z"
    }
   },
   "outputs": [],
   "source": [
    "# cats - {'Kitty Purry'}"
   ]
  },
  {
   "cell_type": "code",
   "execution_count": 15,
   "metadata": {
    "ExecuteTime": {
     "end_time": "2017-10-26T21:35:15.086887Z",
     "start_time": "2017-10-26T21:35:14.946876Z"
    }
   },
   "outputs": [
    {
     "data": {
      "text/plain": [
       "{'Bella', 'Chloe', 'Max', 'Oliver'}"
      ]
     },
     "execution_count": 15,
     "metadata": {},
     "output_type": "execute_result"
    }
   ],
   "source": [
    "cats.keys() - {'Kitty Purry'}"
   ]
  },
  {
   "cell_type": "markdown",
   "metadata": {},
   "source": [
    "So .keys() exist as to return what is in effect a set that can be used for normal set operations."
   ]
  },
  {
   "cell_type": "markdown",
   "metadata": {
    "slideshow": {
     "slide_type": "slide"
    }
   },
   "source": [
    "<center>![Kitty Purry](http://i.perezhilton.com/wp-content/uploads/2012/01/katy-perrys-kitty-purrah__oPt.jpg \"Kitty Purry\")</center>"
   ]
  },
  {
   "cell_type": "markdown",
   "metadata": {
    "slideshow": {
     "slide_type": "slide"
    }
   },
   "source": [
    "## List comprehension\n",
    "Let's say we want to store cat names as upper case"
   ]
  },
  {
   "cell_type": "code",
   "execution_count": 16,
   "metadata": {
    "ExecuteTime": {
     "end_time": "2017-10-26T21:35:15.178794Z",
     "start_time": "2017-10-26T21:35:15.091713Z"
    }
   },
   "outputs": [
    {
     "data": {
      "text/plain": [
       "['Oliver', 'Max', 'Chloe', 'Bella', 'Kitty Purry']"
      ]
     },
     "execution_count": 16,
     "metadata": {},
     "output_type": "execute_result"
    }
   ],
   "source": [
    "# Let's get a cat names list from the dictionary keys\n",
    "cat_names = list(cats.keys())  # You don't really need list() because of duck typing\n",
    "cat_names"
   ]
  },
  {
   "cell_type": "code",
   "execution_count": 17,
   "metadata": {
    "ExecuteTime": {
     "end_time": "2017-10-26T21:35:15.299513Z",
     "start_time": "2017-10-26T21:35:15.183549Z"
    }
   },
   "outputs": [
    {
     "data": {
      "text/plain": [
       "['OLIVER', 'MAX', 'CHLOE', 'BELLA', 'KITTY PURRY']"
      ]
     },
     "execution_count": 17,
     "metadata": {},
     "output_type": "execute_result"
    }
   ],
   "source": [
    "cat_names_upper = [cat_name.upper() for cat_name in cat_names]\n",
    "cat_names_upper"
   ]
  },
  {
   "cell_type": "markdown",
   "metadata": {
    "ExecuteTime": {
     "end_time": "2017-10-26T17:17:15.814690Z",
     "start_time": "2017-10-26T17:17:15.781060Z"
    },
    "slideshow": {
     "slide_type": "slide"
    }
   },
   "source": [
    "## Dictionary comprehension\n",
    "Let's say we want to store cat names as upper case and we want to increment the number of cats by one"
   ]
  },
  {
   "cell_type": "code",
   "execution_count": 18,
   "metadata": {
    "ExecuteTime": {
     "end_time": "2017-10-26T21:35:15.395386Z",
     "start_time": "2017-10-26T21:35:15.304288Z"
    }
   },
   "outputs": [
    {
     "data": {
      "text/plain": [
       "{'BELLA': 10001,\n",
       " 'CHLOE': 15001,\n",
       " 'KITTY PURRY': 2,\n",
       " 'MAX': 20001,\n",
       " 'OLIVER': 5001}"
      ]
     },
     "execution_count": 18,
     "metadata": {},
     "output_type": "execute_result"
    }
   ],
   "source": [
    "new_cats = {cat_name.upper(): cat_count + 1 for cat_name, cat_count in cats.items()}\n",
    "new_cats"
   ]
  },
  {
   "cell_type": "code",
   "execution_count": 19,
   "metadata": {
    "ExecuteTime": {
     "end_time": "2017-10-26T21:35:15.487011Z",
     "start_time": "2017-10-26T21:35:15.398852Z"
    }
   },
   "outputs": [
    {
     "data": {
      "text/plain": [
       "{'Bella': 10000, 'Chloe': 15000, 'Max': 20000, 'Oliver': 5000}"
      ]
     },
     "execution_count": 19,
     "metadata": {},
     "output_type": "execute_result"
    }
   ],
   "source": [
    "# What if we only want actually common cat names?\n",
    "common_cats = {cat_name: cat_count for cat_name, cat_count in cats.items() if cat_count > 1000}\n",
    "common_cats"
   ]
  },
  {
   "cell_type": "markdown",
   "metadata": {
    "slideshow": {
     "slide_type": "slide"
    }
   },
   "source": [
    "## Enumerate\n",
    "What if we want to know on which loop iteration we're currently on?"
   ]
  },
  {
   "cell_type": "markdown",
   "metadata": {
    "slideshow": {
     "slide_type": "subslide"
    }
   },
   "source": [
    "##### First attempt"
   ]
  },
  {
   "cell_type": "code",
   "execution_count": 20,
   "metadata": {
    "ExecuteTime": {
     "end_time": "2017-10-26T21:35:15.578312Z",
     "start_time": "2017-10-26T21:35:15.490611Z"
    }
   },
   "outputs": [
    {
     "name": "stdout",
     "output_type": "stream",
     "text": [
      "Cat name: Oliver. Order in dictionary: 0\n",
      "Cat name: Max. Order in dictionary: 1\n",
      "Cat name: Chloe. Order in dictionary: 2\n",
      "Cat name: Bella. Order in dictionary: 3\n",
      "Cat name: Kitty Purry. Order in dictionary: 4\n"
     ]
    }
   ],
   "source": [
    "# We could write\n",
    "i = 0\n",
    "for i in range(len(cat_names)):\n",
    "    print(\"Cat name: {}. Order in dictionary: {}\".format(cat_names[i], i))"
   ]
  },
  {
   "cell_type": "markdown",
   "metadata": {
    "slideshow": {
     "slide_type": "subslide"
    }
   },
   "source": [
    "##### Second attempt"
   ]
  },
  {
   "cell_type": "code",
   "execution_count": 21,
   "metadata": {
    "ExecuteTime": {
     "end_time": "2017-10-26T21:35:15.670112Z",
     "start_time": "2017-10-26T21:35:15.582244Z"
    },
    "slideshow": {
     "slide_type": "subslide"
    }
   },
   "outputs": [
    {
     "name": "stdout",
     "output_type": "stream",
     "text": [
      "Cat name: Oliver. Order in dictionary: 0\n",
      "Cat name: Max. Order in dictionary: 1\n",
      "Cat name: Chloe. Order in dictionary: 2\n",
      "Cat name: Bella. Order in dictionary: 3\n",
      "Cat name: Kitty Purry. Order in dictionary: 4\n"
     ]
    }
   ],
   "source": [
    "i = 0\n",
    "for cat in cat_names:\n",
    "    print(\"Cat name: {}. Order in dictionary: {}\".format(cat, i))\n",
    "    i += 1"
   ]
  },
  {
   "cell_type": "markdown",
   "metadata": {
    "slideshow": {
     "slide_type": "subslide"
    }
   },
   "source": [
    "##### Third time's the charm"
   ]
  },
  {
   "cell_type": "code",
   "execution_count": 22,
   "metadata": {
    "ExecuteTime": {
     "end_time": "2017-10-26T21:35:15.753669Z",
     "start_time": "2017-10-26T21:35:15.673874Z"
    },
    "slideshow": {
     "slide_type": "subslide"
    }
   },
   "outputs": [
    {
     "name": "stdout",
     "output_type": "stream",
     "text": [
      "Cat name: Oliver. Order in dictionary: 0\n",
      "Cat name: Max. Order in dictionary: 1\n",
      "Cat name: Chloe. Order in dictionary: 2\n",
      "Cat name: Bella. Order in dictionary: 3\n",
      "Cat name: Kitty Purry. Order in dictionary: 4\n"
     ]
    }
   ],
   "source": [
    "# But then we have this straggling i that's still around after the loop, we have to increment it on its own statement etc.\n",
    "for i, cat in enumerate(cats):\n",
    "    print(\"Cat name: {}. Order in dictionary: {}\".format(cat, i))"
   ]
  },
  {
   "cell_type": "code",
   "execution_count": 23,
   "metadata": {
    "ExecuteTime": {
     "end_time": "2017-10-26T21:35:15.845824Z",
     "start_time": "2017-10-26T21:35:15.757048Z"
    }
   },
   "outputs": [
    {
     "data": {
      "text/plain": [
       "[(0, 'Oliver'), (1, 'Max'), (2, 'Chloe'), (3, 'Bella'), (4, 'Kitty Purry')]"
      ]
     },
     "execution_count": 23,
     "metadata": {},
     "output_type": "execute_result"
    }
   ],
   "source": [
    "list(enumerate(cats))"
   ]
  },
  {
   "cell_type": "markdown",
   "metadata": {},
   "source": [
    "This works for lines in files and any kind of iterable items, not just strings or integers."
   ]
  },
  {
   "cell_type": "markdown",
   "metadata": {
    "slideshow": {
     "slide_type": "slide"
    }
   },
   "source": [
    "## Zip\n",
    "What if we have two lists? That's what we have zip for!"
   ]
  },
  {
   "cell_type": "code",
   "execution_count": 24,
   "metadata": {
    "ExecuteTime": {
     "end_time": "2017-10-26T21:35:15.938281Z",
     "start_time": "2017-10-26T21:35:15.850797Z"
    }
   },
   "outputs": [
    {
     "name": "stdout",
     "output_type": "stream",
     "text": [
      "['Oliver', 'Max', 'Chloe', 'Bella', 'Kitty Purry']\n",
      "[5000, 20000, 15000, 10000, 1]\n"
     ]
    }
   ],
   "source": [
    "# Let's pretend we have to lists, and create them from the previous stuff\n",
    "cats_names = list(cats.keys())\n",
    "cats_counts = list(cats.values())\n",
    "print(cats_names)\n",
    "print(cats_counts)"
   ]
  },
  {
   "cell_type": "code",
   "execution_count": 25,
   "metadata": {
    "ExecuteTime": {
     "end_time": "2017-10-26T21:35:16.054986Z",
     "start_time": "2017-10-26T21:35:15.942521Z"
    }
   },
   "outputs": [
    {
     "name": "stdout",
     "output_type": "stream",
     "text": [
      "Oliver 5000\n",
      "Max 20000\n",
      "Chloe 15000\n",
      "Bella 10000\n",
      "Kitty Purry 1\n"
     ]
    }
   ],
   "source": [
    "for cat_name, cat_count in zip(cats_names, cats_counts):\n",
    "    print(cat_name, cat_count)"
   ]
  },
  {
   "cell_type": "markdown",
   "metadata": {
    "slideshow": {
     "slide_type": "subslide"
    }
   },
   "source": [
    "#### Sorting two lists"
   ]
  },
  {
   "cell_type": "code",
   "execution_count": 26,
   "metadata": {
    "ExecuteTime": {
     "end_time": "2017-10-26T21:35:16.134253Z",
     "start_time": "2017-10-26T21:35:16.058547Z"
    }
   },
   "outputs": [],
   "source": [
    "sorted_cat_names, sorted_cat_counts = zip(*sorted(zip(cats_names, cats_counts), key=lambda x: x[1]))"
   ]
  },
  {
   "cell_type": "code",
   "execution_count": 27,
   "metadata": {
    "ExecuteTime": {
     "end_time": "2017-10-26T21:35:16.221387Z",
     "start_time": "2017-10-26T21:35:16.137889Z"
    }
   },
   "outputs": [
    {
     "name": "stdout",
     "output_type": "stream",
     "text": [
      "Kitty Purry 1\n",
      "Oliver 5000\n",
      "Bella 10000\n",
      "Chloe 15000\n",
      "Max 20000\n"
     ]
    }
   ],
   "source": [
    "for cat_name, cat_count in zip(sorted_cat_names, sorted_cat_counts):\n",
    "    print(cat_name, cat_count)"
   ]
  },
  {
   "cell_type": "code",
   "execution_count": 28,
   "metadata": {
    "ExecuteTime": {
     "end_time": "2017-10-26T21:35:16.304751Z",
     "start_time": "2017-10-26T21:35:16.226150Z"
    },
    "slideshow": {
     "slide_type": "subslide"
    }
   },
   "outputs": [
    {
     "name": "stdout",
     "output_type": "stream",
     "text": [
      "Max 20000\n",
      "Chloe 15000\n",
      "Bella 10000\n",
      "Oliver 5000\n",
      "Kitty Purry 1\n"
     ]
    }
   ],
   "source": [
    "# What if we want it to be descending rather than ascending?\n",
    "sorted_cat_names, sorted_cat_counts = zip(*sorted(zip(cats_names, cats_counts), key=lambda x: x[1], reverse=True))\n",
    "for cat_name, cat_count in zip(sorted_cat_names, sorted_cat_counts):\n",
    "    print(cat_name, cat_count)"
   ]
  },
  {
   "cell_type": "markdown",
   "metadata": {
    "slideshow": {
     "slide_type": "subslide"
    }
   },
   "source": [
    "#### i and i+1 at the same time"
   ]
  },
  {
   "cell_type": "code",
   "execution_count": 29,
   "metadata": {
    "ExecuteTime": {
     "end_time": "2017-10-26T21:35:16.386245Z",
     "start_time": "2017-10-26T21:35:16.309417Z"
    }
   },
   "outputs": [
    {
     "name": "stdout",
     "output_type": "stream",
     "text": [
      "Current: Max. Next: Chloe\n",
      "Current: Chloe. Next: Bella\n",
      "Current: Bella. Next: Oliver\n",
      "Current: Oliver. Next: Kitty Purry\n"
     ]
    }
   ],
   "source": [
    "i = 0\n",
    "for i in range(len(sorted_cat_names) - 1):\n",
    "    print(\"Current: {}. Next: {}\".format(sorted_cat_names[i], sorted_cat_names[i+1]))"
   ]
  },
  {
   "cell_type": "code",
   "execution_count": 30,
   "metadata": {
    "ExecuteTime": {
     "end_time": "2017-10-26T21:35:16.469205Z",
     "start_time": "2017-10-26T21:35:16.390676Z"
    },
    "slideshow": {
     "slide_type": "subslide"
    }
   },
   "outputs": [
    {
     "name": "stdout",
     "output_type": "stream",
     "text": [
      "Current: Max. Next: Chloe\n",
      "Current: Chloe. Next: Bella\n",
      "Current: Bella. Next: Oliver\n",
      "Current: Oliver. Next: Kitty Purry\n"
     ]
    }
   ],
   "source": [
    "for current_cat, next_cat in zip(sorted_cat_names, sorted_cat_names[1:]):\n",
    "    print(\"Current: {}. Next: {}\".format(current_cat, next_cat))"
   ]
  },
  {
   "cell_type": "markdown",
   "metadata": {
    "ExecuteTime": {
     "end_time": "2017-10-26T20:54:58.530516Z",
     "start_time": "2017-10-26T20:54:58.526469Z"
    },
    "slideshow": {
     "slide_type": "slide"
    }
   },
   "source": [
    "#### Finding min/max in an interable"
   ]
  },
  {
   "cell_type": "code",
   "execution_count": 31,
   "metadata": {
    "ExecuteTime": {
     "end_time": "2017-10-26T21:35:16.608485Z",
     "start_time": "2017-10-26T21:35:16.474125Z"
    }
   },
   "outputs": [
    {
     "name": "stdout",
     "output_type": "stream",
     "text": [
      "Max: 20000\n",
      "Min: ('Kitty Purry', 1)\n"
     ]
    }
   ],
   "source": [
    "# Highest count of cats\n",
    "print(\"Max:\", max(cats.values()))\n",
    "\n",
    "print(\"Min:\", min(cats.items(), key=lambda x: x[1]))"
   ]
  },
  {
   "cell_type": "markdown",
   "metadata": {
    "ExecuteTime": {
     "end_time": "2017-10-26T20:56:12.640071Z",
     "start_time": "2017-10-26T20:56:12.636005Z"
    },
    "slideshow": {
     "slide_type": "slide"
    }
   },
   "source": [
    "## Itertools\n",
    "Itertools is a part of the standard library that has a lot of functions to doing interesting custom iterations. These are just some basic examples, just be aware it's there."
   ]
  },
  {
   "cell_type": "code",
   "execution_count": 32,
   "metadata": {
    "ExecuteTime": {
     "end_time": "2017-10-26T21:35:16.816448Z",
     "start_time": "2017-10-26T21:35:16.611890Z"
    }
   },
   "outputs": [
    {
     "name": "stdout",
     "output_type": "stream",
     "text": [
      "a b c d e f g h i j k l m n o p q r s t u v w x y z a b c d e f g h i j k l m n o p q r s t u v w x "
     ]
    }
   ],
   "source": [
    "import itertools\n",
    "import string\n",
    "repeat_sequence = itertools.cycle(string.ascii_lowercase)\n",
    "for number, _ in zip(repeat_sequence, range(50)):\n",
    "    print(number, end=\" \")"
   ]
  },
  {
   "cell_type": "code",
   "execution_count": 33,
   "metadata": {
    "ExecuteTime": {
     "end_time": "2017-10-26T21:35:16.917579Z",
     "start_time": "2017-10-26T21:35:16.821106Z"
    }
   },
   "outputs": [
    {
     "name": "stdout",
     "output_type": "stream",
     "text": [
      "z a b c d e f g h i j k l m n o p q r s t u v w x y z a b c d e f g h i j k l m n o p q r s t u v w "
     ]
    }
   ],
   "source": [
    "cat_sequence = itertools.cycle(cats)\n",
    "for cat, _ in zip(repeat_sequence, range(50)):\n",
    "    print(cat, end=\" \")"
   ]
  },
  {
   "cell_type": "code",
   "execution_count": 34,
   "metadata": {
    "ExecuteTime": {
     "end_time": "2017-10-26T21:35:16.994050Z",
     "start_time": "2017-10-26T21:35:16.921075Z"
    },
    "slideshow": {
     "slide_type": "subslide"
    }
   },
   "outputs": [
    {
     "name": "stdout",
     "output_type": "stream",
     "text": [
      "Oliver\n",
      "Oliver\n",
      "Oliver\n"
     ]
    }
   ],
   "source": [
    "for cat in itertools.repeat(cat_names[0], 3):\n",
    "    print(cat)"
   ]
  },
  {
   "cell_type": "markdown",
   "metadata": {
    "slideshow": {
     "slide_type": "slide"
    }
   },
   "source": [
    "## Creating your own stream"
   ]
  },
  {
   "cell_type": "code",
   "execution_count": 35,
   "metadata": {
    "ExecuteTime": {
     "end_time": "2017-10-26T21:35:17.084243Z",
     "start_time": "2017-10-26T21:35:16.997272Z"
    }
   },
   "outputs": [],
   "source": [
    "# Import a csv we'll use for the next part\n",
    "import csv\n",
    "def csv_generator(csv_reader):\n",
    "    for row in csv_reader:\n",
    "        for cell in row:\n",
    "            yield cell"
   ]
  },
  {
   "cell_type": "code",
   "execution_count": 36,
   "metadata": {
    "ExecuteTime": {
     "end_time": "2017-10-26T21:35:17.173940Z",
     "start_time": "2017-10-26T21:35:17.087341Z"
    }
   },
   "outputs": [
    {
     "name": "stdout",
     "output_type": "stream",
     "text": [
      "budget genres homepage id keywords original_language original_title overview popularity production_companies production_countries release_date revenue runtime spoken_languages status tagline title vote_average vote_count "
     ]
    }
   ],
   "source": [
    "with open('sources/tmdb_5000_movies.csv') as f:\n",
    "    csv_reader = csv.reader(f)\n",
    "    for cell, _ in zip(csv_generator(csv_reader), range(20)):\n",
    "        print(cell, end=\" \")"
   ]
  },
  {
   "cell_type": "code",
   "execution_count": 37,
   "metadata": {
    "ExecuteTime": {
     "end_time": "2017-10-26T21:35:17.267745Z",
     "start_time": "2017-10-26T21:35:17.178708Z"
    },
    "slideshow": {
     "slide_type": "subslide"
    }
   },
   "outputs": [],
   "source": [
    "def odd_numbers(stream_of_numbers):\n",
    "    for number in stream_of_numbers:\n",
    "        if number % 2 == 1:\n",
    "            yield number"
   ]
  },
  {
   "cell_type": "code",
   "execution_count": 38,
   "metadata": {
    "ExecuteTime": {
     "end_time": "2017-10-26T21:35:17.357861Z",
     "start_time": "2017-10-26T21:35:17.271678Z"
    }
   },
   "outputs": [
    {
     "name": "stdout",
     "output_type": "stream",
     "text": [
      "1 3 5 7 9 11 13 15 17 19 21 23 25 27 29 31 33 35 37 39 41 43 45 47 49 "
     ]
    }
   ],
   "source": [
    "for number in odd_numbers(range(50)):\n",
    "    print(number, end=\" \")"
   ]
  }
 ],
 "metadata": {
  "celltoolbar": "Slideshow",
  "kernelspec": {
   "display_name": "Python 3",
   "language": "python",
   "name": "python3"
  },
  "language_info": {
   "codemirror_mode": {
    "name": "ipython",
    "version": 3
   },
   "file_extension": ".py",
   "mimetype": "text/x-python",
   "name": "python",
   "nbconvert_exporter": "python",
   "pygments_lexer": "ipython3",
   "version": "3.6.2"
  }
 },
 "nbformat": 4,
 "nbformat_minor": 2
}
