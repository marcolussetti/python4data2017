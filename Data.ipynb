{
 "cells": [
  {
   "cell_type": "markdown",
   "metadata": {
    "slideshow": {
     "slide_type": "slide"
    }
   },
   "source": [
    "# Data Manipulation in Python\n",
    "## Workflow\n",
    "This is only a sample, very basic workflow. There will be resources at the end for material that explores this subject in a lot more depth.\n",
    "\n",
    "There's a lot more that can be done, and a lot more tools that can be used.\n",
    "\n",
    "1. Download CSV\n",
    "1. Import data into a Pandas Dataframe\n",
    "1. Clean it up\n",
    "1. Extract slices of data\n",
    "1. Data Visualization (next section)"
   ]
  },
  {
   "cell_type": "markdown",
   "metadata": {
    "slideshow": {
     "slide_type": "slide"
    }
   },
   "source": [
    "## Downloading some interesting Data\n",
    "Datasets can come in many formats, notably as CSVs, Excel Files, connection to databases, SQLite Database files, HP5 files and so, so many others.\n",
    "We'll be using some simple CSV data.\n",
    "\n",
    "### Our dataset\n",
    "For this workshop, we'll be working with a dataset that's commonly used for these sort of tutorials. It's a database of the top 5000 movies from TMDb which is a more tolerant competitor to IMDb which doesn't send DMCA takedown requests to people who scrape their website.\n",
    "\n",
    "The dataset is available on Kaggle at https://www.kaggle.com/tmdb/tmdb-movie-metadata"
   ]
  },
  {
   "cell_type": "markdown",
   "metadata": {
    "slideshow": {
     "slide_type": "subslide"
    }
   },
   "source": [
    "We normally would need to download the file, but I've added the file we need to our repository so that we don't need to do anything.\n",
    "\n",
    "The commands below should work just fine on the cloud environments and on non-Windows environments."
   ]
  },
  {
   "cell_type": "code",
   "execution_count": null,
   "metadata": {
    "slideshow": {
     "slide_type": "-"
    }
   },
   "outputs": [],
   "source": [
    "#!mkdir sources\n",
    "#!curl -o sources/tmdb-5000-movie-dataset.zip https://marcolussetti.com/workshops/python4data2017/sources/tmdb-5000-movie-dataset.zip"
   ]
  },
  {
   "cell_type": "code",
   "execution_count": null,
   "metadata": {},
   "outputs": [],
   "source": [
    "#!unzip sources/tmdb-5000-movie-dataset.zip -d sources/"
   ]
  },
  {
   "cell_type": "code",
   "execution_count": null,
   "metadata": {},
   "outputs": [],
   "source": [
    "#!ls sources/*.csv"
   ]
  },
  {
   "cell_type": "markdown",
   "metadata": {
    "slideshow": {
     "slide_type": "slide"
    }
   },
   "source": [
    "Now that we have a csv file downloaded in the sources directory, we can import into Pandas."
   ]
  },
  {
   "cell_type": "code",
   "execution_count": null,
   "metadata": {},
   "outputs": [],
   "source": [
    "import pandas as pd"
   ]
  },
  {
   "cell_type": "code",
   "execution_count": null,
   "metadata": {},
   "outputs": [],
   "source": [
    "dataframe = pd.DataFrame.from_csv('sources/tmdb_5000_movies.csv')\n",
    "dataframe"
   ]
  },
  {
   "cell_type": "markdown",
   "metadata": {
    "slideshow": {
     "slide_type": "slide"
    }
   },
   "source": [
    "### Cleaning up the data\n",
    "What are some issues you can spot with this data, by just glancing at the dataframe above?"
   ]
  },
  {
   "cell_type": "markdown",
   "metadata": {
    "slideshow": {
     "slide_type": "subslide"
    }
   },
   "source": [
    "These are the ones I could think of quickly when I prepared the presentation, but I'm sure I missed some:\n",
    "- The row index is the budget, whereas it should be the id.\n",
    "- There are a lot of columns, do we even need all of them?\n",
    "- There are a bunch of movies empty values for some values (indicated by NaN in Pandas)\n",
    "- There are movies with a budget of 0\n",
    "- There are movies with revenue of 0\n",
    "- The genre, keywords, production_company, production_country, language columns contain data in what appears to be JSON structures. Some even include what look like unicode escaping sequences.\n",
    "- There are movies with no languages listed (denoted by an empty JSON array)\n",
    "- There are movies whose rating is based on thousand of votes, and movies whose rating is based on 5 votes."
   ]
  },
  {
   "cell_type": "markdown",
   "metadata": {
    "slideshow": {
     "slide_type": "subslide"
    }
   },
   "source": [
    "##### Fixing the index"
   ]
  },
  {
   "cell_type": "code",
   "execution_count": null,
   "metadata": {
    "scrolled": true
   },
   "outputs": [],
   "source": [
    "dataframe = dataframe.reset_index()\n",
    "dataframe = dataframe.set_index('id')\n",
    "dataframe"
   ]
  },
  {
   "cell_type": "markdown",
   "metadata": {
    "slideshow": {
     "slide_type": "subslide"
    }
   },
   "source": [
    "##### Removing columns we don't need"
   ]
  },
  {
   "cell_type": "code",
   "execution_count": null,
   "metadata": {},
   "outputs": [],
   "source": [
    "dataframe_filtered = dataframe[['title', 'release_date', 'runtime',\n",
    "                                'budget', 'revenue', 'vote_average', 'vote_count', 'genres']]\n",
    "dataframe_filtered"
   ]
  },
  {
   "cell_type": "markdown",
   "metadata": {
    "slideshow": {
     "slide_type": "subslide"
    }
   },
   "source": [
    "#### Exploring data\n",
    "Let's look at the what sort of data we're looking at!"
   ]
  },
  {
   "cell_type": "code",
   "execution_count": null,
   "metadata": {},
   "outputs": [],
   "source": [
    "print(\"Rows\", len(dataframe_filtered))\n",
    "\n",
    "print(\"Avg budget\", round(dataframe_filtered['budget'].mean(), 0),\n",
    "      \"Min budget\", dataframe_filtered['budget'].min(), \"Max budget\", dataframe_filtered['budget'].max())\n",
    "\n",
    "print(\"Avg revenue\", round(dataframe_filtered['revenue'].mean(), 0),\n",
    "      \"Min revenue\", dataframe_filtered['revenue'].min(), \"Max revenue\", dataframe_filtered['revenue'].max())"
   ]
  },
  {
   "cell_type": "code",
   "execution_count": null,
   "metadata": {},
   "outputs": [],
   "source": [
    "dataframe.describe()"
   ]
  },
  {
   "cell_type": "markdown",
   "metadata": {
    "slideshow": {
     "slide_type": "subslide"
    }
   },
   "source": [
    "Now let's say we can to add a new column, called ROI that tracks the return on the investement.\n",
    "\n",
    "The formula for ROI is: $\\frac{Revenue - Cost}{Cost}$\n",
    "\n",
    "However, we have several columns where the revenue and or cost are zero, which is obviously not very useful for our calculations. So we need to drop all such movies."
   ]
  },
  {
   "cell_type": "code",
   "execution_count": null,
   "metadata": {},
   "outputs": [],
   "source": [
    "has_revenue = dataframe_filtered['revenue'] > 0\n",
    "has_budget = dataframe_filtered['budget'] > 0"
   ]
  },
  {
   "cell_type": "code",
   "execution_count": null,
   "metadata": {},
   "outputs": [],
   "source": [
    "# How many have no votes though?\n",
    "has_votes = dataframe_filtered['vote_count'] > 0\n",
    "print(\"Movies with 0 votes:\", len(dataframe_filtered) -\n",
    "      len(dataframe_filtered[has_votes]))\n",
    "\n",
    "has_votes = dataframe_filtered['vote_count'] >= 10\n",
    "print(\"Movies with 10 or less votes:\", len(\n",
    "    dataframe_filtered) - len(dataframe_filtered[has_votes]))"
   ]
  },
  {
   "cell_type": "code",
   "execution_count": null,
   "metadata": {
    "slideshow": {
     "slide_type": "subslide"
    }
   },
   "outputs": [],
   "source": [
    "movies_with_revenue = dataframe_filtered[has_budget & has_revenue & has_votes]\n",
    "movies_with_revenue.describe()"
   ]
  },
  {
   "cell_type": "code",
   "execution_count": null,
   "metadata": {
    "slideshow": {
     "slide_type": "subslide"
    }
   },
   "outputs": [],
   "source": [
    "print(\"Rows\", len(movies_with_revenue))\n",
    "\n",
    "print(\"Avg budget\", round(movies_with_revenue['budget'].mean(), 0),\n",
    "      \"Min budget\", movies_with_revenue['budget'].min(), \"Max budget\", movies_with_revenue['budget'].max())\n",
    "\n",
    "print(\"Avg revenue\", round(movies_with_revenue['revenue'].mean(), 0),\n",
    "      \"Min revenue\", movies_with_revenue['revenue'].min(), \"Max revenue\", movies_with_revenue['revenue'].max())\n",
    "\n",
    "print(\"Avg rating\", round(movies_with_revenue['vote_average'].mean(), 0),\n",
    "      \"Min rating\", movies_with_revenue['vote_average'].min(), \"Max rating\", movies_with_revenue['vote_average'].max())\n",
    "\n",
    "print(\"Avg votes\", round(movies_with_revenue['vote_count'].mean(), 0),\n",
    "      \"Min votes\", movies_with_revenue['vote_count'].min(), \"Max votes\", movies_with_revenue['vote_count'].max())\n",
    "\n",
    "print(\"Avg runtime\", round(movies_with_revenue['runtime'].mean(), 0),\n",
    "      \"Min runtime\", movies_with_revenue['runtime'].min(), \"Max runtime\", movies_with_revenue['runtime'].max())"
   ]
  },
  {
   "cell_type": "code",
   "execution_count": null,
   "metadata": {
    "slideshow": {
     "slide_type": "subslide"
    }
   },
   "outputs": [],
   "source": [
    "# Wait, what sort of movies has 338 minutes runtime?\n",
    "from datetime import timedelta\n",
    "print('338 minutes is equivalent to', timedelta(minutes=338), 'hours')\n",
    "movies_with_revenue.loc[movies_with_revenue['runtime'].idxmax()]"
   ]
  },
  {
   "cell_type": "markdown",
   "metadata": {
    "slideshow": {
     "slide_type": "subslide"
    }
   },
   "source": [
    "Now we can create our new ROI column. Let's review the formula:\n",
    "\n",
    "$\\frac{Revenue - Cost}{Cost}$"
   ]
  },
  {
   "cell_type": "code",
   "execution_count": null,
   "metadata": {},
   "outputs": [],
   "source": [
    "pd.options.mode.chained_assignment = None  # Disable warning we don't care about\n",
    "movies_with_revenue['ROI'] = (movies_with_revenue['revenue'] -\n",
    "                              movies_with_revenue['budget']) / movies_with_revenue['budget']\n",
    "movies_with_revenue"
   ]
  },
  {
   "cell_type": "code",
   "execution_count": null,
   "metadata": {
    "slideshow": {
     "slide_type": "subslide"
    }
   },
   "outputs": [],
   "source": [
    "print(\"Avg ROI\", round(movies_with_revenue['ROI'].mean(), 0),\n",
    "      \"Min ROI\", movies_with_revenue['ROI'].min(), \"Max ROI\", movies_with_revenue['ROI'].max())"
   ]
  },
  {
   "cell_type": "code",
   "execution_count": null,
   "metadata": {},
   "outputs": [],
   "source": [
    "movies_with_revenue.sort_values('ROI', ascending=False).head()"
   ]
  },
  {
   "cell_type": "code",
   "execution_count": null,
   "metadata": {
    "slideshow": {
     "slide_type": "subslide"
    }
   },
   "outputs": [],
   "source": [
    "movies_with_revenue[(movies_with_revenue['budget'] < 1000)\n",
    "                    | (movies_with_revenue['revenue'] < 1000)]"
   ]
  },
  {
   "cell_type": "code",
   "execution_count": null,
   "metadata": {
    "scrolled": true,
    "slideshow": {
     "slide_type": "subslide"
    }
   },
   "outputs": [],
   "source": [
    "# Let's fix some stuff, the data is from Wikipedia\n",
    "# Tarnation. This is actually semi-accurate and we can leave it as is.\n",
    "# We don't have enough info from Wikipedia for both budgets & revenues\n",
    "movies_to_drop = [217708, 78383, 22649, 11980]\n",
    "movies_with_revenue.drop(movies_to_drop, inplace=True)\n",
    "\n",
    "# Budgets were supposed to be in millions\n",
    "budgets_to_increment = [16340, 1613, 10397, 13006, 3082]\n",
    "for movie in budgets_to_increment:\n",
    "    movies_with_revenue.at[movie, 'budget'] = 1000000\n",
    "\n",
    "# Revenues were supposed to be in millions\n",
    "revenues_to_increment = [16340, 1613, 10397, 13006, 14844, 2196, 18475, 10944]\n",
    "for movie in revenues_to_increment:\n",
    "    movies_with_revenue.at[movie, 'revenue'] *= 1000000\n",
    "\n",
    "# Budgets are just plain wrong\n",
    "# F.I.S.T.\n",
    "movies_with_revenue.at[28932, 'budget'] = 8000000\n",
    "movies_with_revenue.at[28932, 'revenue'] = 20388920\n",
    "# I Married a Strange Person!\n",
    "movies_with_revenue.at[51942, 'budget'] = 250000\n",
    "movies_with_revenue.at[51942, 'revenue'] = 467272\n",
    "\n",
    "# Check what's left\n",
    "movies_with_revenue[(movies_with_revenue['budget'] < 1000)\n",
    "                    | (movies_with_revenue['revenue'] < 1000)]"
   ]
  },
  {
   "cell_type": "markdown",
   "metadata": {
    "slideshow": {
     "slide_type": "subslide"
    }
   },
   "source": [
    "<center>![Tarnation](https://images-na.ssl-images-amazon.com/images/I/51X9ED5D5EL.jpg \"Tarnation\")</center>"
   ]
  },
  {
   "cell_type": "code",
   "execution_count": null,
   "metadata": {
    "slideshow": {
     "slide_type": "subslide"
    }
   },
   "outputs": [],
   "source": [
    "movies_with_revenue['ROI'] = (movies_with_revenue['revenue'] -\n",
    "                              movies_with_revenue['budget']) / movies_with_revenue['budget']\n",
    "\n",
    "print(movies_with_revenue['ROI'].describe())\n",
    "print()\n",
    "print(movies_with_revenue.loc[movies_with_revenue['ROI'].idxmax()])"
   ]
  },
  {
   "cell_type": "code",
   "execution_count": null,
   "metadata": {
    "slideshow": {
     "slide_type": "subslide"
    }
   },
   "outputs": [],
   "source": [
    "movies_with_revenue.describe()"
   ]
  },
  {
   "cell_type": "code",
   "execution_count": null,
   "metadata": {
    "slideshow": {
     "slide_type": "subslide"
    }
   },
   "outputs": [],
   "source": [
    "movies_with_revenue.corr(method='pearson')"
   ]
  },
  {
   "cell_type": "code",
   "execution_count": null,
   "metadata": {
    "slideshow": {
     "slide_type": "subslide"
    }
   },
   "outputs": [],
   "source": [
    "movies_with_revenue['release_date'] = pd.to_datetime(\n",
    "    movies_with_revenue['release_date'])\n",
    "\n",
    "movies_with_revenue['Year'] = movies_with_revenue['release_date'].dt.year\n",
    "movies_with_revenue['Month'] = movies_with_revenue['release_date'].dt.month\n",
    "movies_with_revenue.describe()"
   ]
  },
  {
   "cell_type": "code",
   "execution_count": null,
   "metadata": {},
   "outputs": [],
   "source": [
    "movies_with_revenue.corr()"
   ]
  },
  {
   "cell_type": "markdown",
   "metadata": {
    "slideshow": {
     "slide_type": "slide"
    }
   },
   "source": [
    "# Data Visualization\n",
    "Now that we have some semi-useful data, we can experiment with some graphs.\n",
    "\n",
    "We will use Seaborn and Matplotlib, the standard plotting library in Python."
   ]
  },
  {
   "cell_type": "code",
   "execution_count": null,
   "metadata": {},
   "outputs": [],
   "source": [
    "%matplotlib inline\n",
    "import numpy as np\n",
    "import seaborn as sns\n",
    "import matplotlib.pyplot as plt"
   ]
  },
  {
   "cell_type": "markdown",
   "metadata": {},
   "source": [
    "### Seaborn"
   ]
  },
  {
   "cell_type": "code",
   "execution_count": null,
   "metadata": {
    "slideshow": {
     "slide_type": "subslide"
    }
   },
   "outputs": [],
   "source": [
    "# Scatterplot of budget vs revenue\n",
    "sns.lmplot(x=\"budget\", y=\"revenue\", data=movies_with_revenue)\n",
    "# sns.lmplot(x=\"budget\", y=\"revenue\", data=movies_with_revenue, scatter_kws={\"s\": 2})"
   ]
  },
  {
   "cell_type": "code",
   "execution_count": null,
   "metadata": {
    "slideshow": {
     "slide_type": "subslide"
    }
   },
   "outputs": [],
   "source": [
    "# Same scale on both axes\n",
    "sns.lmplot(x=\"budget\", y=\"revenue\", data=movies_with_revenue)\n",
    "plt.xlim(0, max(movies_with_revenue['budget'].max(), movies_with_revenue['revenue'].max()))\n",
    "plt.ylim(0, max(movies_with_revenue['budget'].max(), movies_with_revenue['revenue'].max()))\n",
    "plt.gca().set_aspect('equal', adjustable='box')"
   ]
  },
  {
   "cell_type": "code",
   "execution_count": null,
   "metadata": {
    "slideshow": {
     "slide_type": "subslide"
    }
   },
   "outputs": [],
   "source": [
    "scaled_values = movies_with_revenue[['budget', 'revenue']].apply(lambda x: x / 1000000)\n",
    "\n",
    "sns.lmplot(x='budget', y='revenue', data=scaled_values)\n",
    "plt.xlim(0, max(scaled_values['budget'] + scaled_values['revenue']))\n",
    "plt.ylim(0, max(scaled_values['budget'] + scaled_values['revenue']))\n",
    "plt.gca().set_aspect('equal', adjustable='box')"
   ]
  },
  {
   "cell_type": "code",
   "execution_count": null,
   "metadata": {
    "slideshow": {
     "slide_type": "subslide"
    }
   },
   "outputs": [],
   "source": [
    "scaled_values = movies_with_revenue[['budget', 'revenue']].sample(n=50).apply(lambda x: x / 1000000)\n",
    "\n",
    "sns.lmplot(x='budget', y='revenue', data=scaled_values, fit_reg=False)"
   ]
  },
  {
   "cell_type": "code",
   "execution_count": null,
   "metadata": {
    "slideshow": {
     "slide_type": "subslide"
    }
   },
   "outputs": [],
   "source": [
    "scaled_values = movies_with_revenue[['title', 'budget', 'revenue']].sort_values('revenue', ascending=False)[:25]\n",
    "scaled_values['budget'] = scaled_values['budget'].apply(lambda x: x / 1000000)\n",
    "scaled_values['revenue'] = scaled_values['revenue'].apply(lambda x: x / 1000000)\n",
    "# scaled_values.head()\n",
    "sns.boxplot(data=scaled_values[['revenue']])"
   ]
  },
  {
   "cell_type": "code",
   "execution_count": null,
   "metadata": {
    "slideshow": {
     "slide_type": "subslide"
    }
   },
   "outputs": [],
   "source": [
    "sns.lmplot(x='budget', y='revenue', data=scaled_values, fit_reg=False)"
   ]
  },
  {
   "cell_type": "code",
   "execution_count": null,
   "metadata": {
    "slideshow": {
     "slide_type": "subslide"
    }
   },
   "outputs": [],
   "source": [
    "scaled_values = movies_with_revenue[['title', 'budget', 'revenue']].sort_values('budget', ascending=False)[:50]\n",
    "scaled_values['budget'] = scaled_values['budget'].apply(lambda x: x / 1000000)\n",
    "scaled_values['revenue'] = scaled_values['revenue'].apply(lambda x: x / 1000000)\n",
    "# scaled_values.head()\n",
    "sns.boxplot(data=scaled_values[['budget']])"
   ]
  },
  {
   "cell_type": "code",
   "execution_count": null,
   "metadata": {
    "slideshow": {
     "slide_type": "subslide"
    }
   },
   "outputs": [],
   "source": [
    "# Suppose we want to have an idea of what sort of distribution budgets have in our movie dataset\n",
    "sns.distplot(movies_with_revenue[['budget']].apply(lambda x: x / 1000000))\n",
    "# plt.xlim(0, max(movies_with_revenue['budget'].apply(lambda x: x / 1000000)))"
   ]
  },
  {
   "cell_type": "markdown",
   "metadata": {
    "slideshow": {
     "slide_type": "slide"
    }
   },
   "source": [
    "### Matplotlib"
   ]
  },
  {
   "cell_type": "code",
   "execution_count": null,
   "metadata": {},
   "outputs": [],
   "source": [
    "# Prepare data by sorting and splitting into two separate entities per axii\n",
    "budgets = movies_with_revenue['budget'].apply(lambda x: x / 1000000).tolist()\n",
    "revenues = movies_with_revenue['revenue'].apply(lambda x: x / 1000000).tolist()\n",
    "\n",
    "# Monstrosity to be seen later.\n",
    "#budgets, revenues = zip(*sorted(zip(movies_with_revenue['budget'].apply(lambda x: x / 1000000).tolist(), movies_with_revenue['revenue'].apply(lambda x: x / 1000000).tolist()), key=lambda budget: budget[0], reverse=True))\n",
    "\n",
    "\n",
    "plt.axis([0, max(budgets), 0, max(revenues)])\n",
    "plt.plot(budgets, revenues)\n",
    "plt.xlabel('Budgets')\n",
    "plt.ylabel('Revenues')\n",
    "plt.title('Revenues vs Budgets')\n",
    "plt.draw()"
   ]
  },
  {
   "cell_type": "code",
   "execution_count": null,
   "metadata": {
    "slideshow": {
     "slide_type": "subslide"
    }
   },
   "outputs": [],
   "source": [
    "plt.axis([0, max(budgets), 0, max(revenues)])\n",
    "plt.scatter(budgets, revenues)\n",
    "# We can make this more readable by shrinking down the sizes\n",
    "#plt.scatter(budgets, revenues, s=2)\n",
    "plt.xlabel('Budgets')\n",
    "plt.ylabel('Revenues')\n",
    "plt.title('Revenues vs Budgets')\n",
    "#plt.gca().set_aspect('equal', adjustable='box')\n",
    "plt.draw()"
   ]
  },
  {
   "cell_type": "markdown",
   "metadata": {
    "slideshow": {
     "slide_type": "slide"
    }
   },
   "source": [
    "### Revenue by Genre\n",
    "\n",
    "Let's try to correlate genres and revenues! As each movie has multiple genre, we'll take the simple approach of duplicating the movie for each genre it exists in."
   ]
  },
  {
   "cell_type": "code",
   "execution_count": null,
   "metadata": {},
   "outputs": [],
   "source": [
    "list(movies_with_revenue['genres'][:1])"
   ]
  },
  {
   "cell_type": "code",
   "execution_count": null,
   "metadata": {},
   "outputs": [],
   "source": [
    "import json\n",
    "\n",
    "def genres_to_sets(json_string):\n",
    "    input_list = json.loads(json_string)\n",
    "    return {genre['name'] for genre in input_list}\n",
    "\n",
    "genres_to_sets(movies_with_revenue['genres'][19995])"
   ]
  },
  {
   "cell_type": "code",
   "execution_count": null,
   "metadata": {
    "slideshow": {
     "slide_type": "subslide"
    }
   },
   "outputs": [],
   "source": [
    "movies_by_genre = []\n",
    "\n",
    "for row in movies_with_revenue[['title', 'genres', 'budget', 'revenue', 'ROI']].itertuples():\n",
    "    for genre in genres_to_sets(row.genres):\n",
    "        movies_by_genre.append(row._asdict())\n",
    "        movies_by_genre[-1]['genres'] = genre\n",
    "        movies_by_genre[-1]['budget'] /= 1000000\n",
    "        movies_by_genre[-1]['revenue'] /= 1000000\n",
    "        \n",
    "movies_by_genre = pd.DataFrame(movies_by_genre)\n",
    "movies_by_genre.rename(columns={'genres': 'genre'}, inplace=True)\n",
    "movies_by_genre.head()"
   ]
  },
  {
   "cell_type": "code",
   "execution_count": null,
   "metadata": {
    "slideshow": {
     "slide_type": "subslide"
    }
   },
   "outputs": [],
   "source": [
    "sns.set_style('whitegrid')\n",
    "plt.rcParams[\"figure.figsize\"] = (20,5)  # Changes the size of the graph\n",
    "sns.boxplot(x='genre', y='revenue', data=movies_by_genre[movies_by_genre['revenue'] < 1000])"
   ]
  },
  {
   "cell_type": "code",
   "execution_count": null,
   "metadata": {
    "slideshow": {
     "slide_type": "subslide"
    }
   },
   "outputs": [],
   "source": [
    "sns.set_style('whitegrid')\n",
    "plt.rcParams[\"figure.figsize\"] = (20,5)  # Changes the size of the graph\n",
    "sns.boxplot(x='genre', y='budget', data=movies_by_genre[movies_by_genre['budget'] < 150])"
   ]
  },
  {
   "cell_type": "code",
   "execution_count": null,
   "metadata": {
    "slideshow": {
     "slide_type": "subslide"
    }
   },
   "outputs": [],
   "source": [
    "sns.set_style('whitegrid')\n",
    "plt.rcParams[\"figure.figsize\"] = (20,5)  # Changes the size of the graph\n",
    "sns.boxplot(x='genre', y='ROI', data=movies_by_genre[movies_by_genre['ROI'] < 20000])\n",
    "#sns.boxplot(x='genre', y='ROI', data=movies_by_genre[movies_by_genre['ROI'] < 2000])\n",
    "#sns.boxplot(x='genre', y='ROI', data=movies_by_genre[movies_by_genre['ROI'] < 100])\n",
    "# sns.boxplot(x='genre', y='ROI', data=movies_by_genre[movies_by_genre['ROI'] < 50])"
   ]
  },
  {
   "cell_type": "code",
   "execution_count": null,
   "metadata": {
    "slideshow": {
     "slide_type": "subslide"
    }
   },
   "outputs": [],
   "source": [
    "movies_by_genre[['genre', 'ROI']][movies_by_genre['ROI'] < 1000].groupby('genre').describe()"
   ]
  }
 ],
 "metadata": {
  "celltoolbar": "Slideshow",
  "kernelspec": {
   "display_name": "Python 3",
   "language": "python",
   "name": "python3"
  },
  "language_info": {
   "codemirror_mode": {
    "name": "ipython",
    "version": 3
   },
   "file_extension": ".py",
   "mimetype": "text/x-python",
   "name": "python",
   "nbconvert_exporter": "python",
   "pygments_lexer": "ipython3",
   "version": "3.6.2"
  }
 },
 "nbformat": 4,
 "nbformat_minor": 2
}
