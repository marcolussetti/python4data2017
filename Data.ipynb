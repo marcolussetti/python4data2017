{
 "cells": [
  {
   "cell_type": "markdown",
   "metadata": {
    "slideshow": {
     "slide_type": "slide"
    }
   },
   "source": [
    "# Data Manipulation in Python\n",
    "## Workflow\n",
    "This is only a sample, very basic workflow. There will be resources at the end for material that explores this subject in a lot more depth.\n",
    "\n",
    "There's a lot more that can be done, and a lot more tools that can be used.\n",
    "\n",
    "1. Download CSV\n",
    "1. Import data into a Pandas Dataframe\n",
    "1. Clean it up\n",
    "1. Extract slices of data\n",
    "1. Data Visualization (next section)"
   ]
  },
  {
   "cell_type": "markdown",
   "metadata": {
    "slideshow": {
     "slide_type": "slide"
    }
   },
   "source": [
    "## Downloading some interesting Data\n",
    "Datasets can come in many formats, notably as CSVs, Excel Files, connection to databases, SQLite Database files, HP5 files and so, so many others.\n",
    "We'll be using some simple CSV data.\n",
    "\n",
    "### Our dataset\n",
    "For this workshop, we'll be working with a dataset that's commonly used for these sort of tutorials. It's a database of the top 5000 movies from TMDb which is a more tolerant competitor to IMDb which doesn't send DMCA takedown requests to people who scrape their website."
   ]
  },
  {
   "cell_type": "code",
   "execution_count": 5,
   "metadata": {
    "ExecuteTime": {
     "end_time": "2017-10-25T18:35:47.440029Z",
     "start_time": "2017-10-25T18:35:47.028703Z"
    }
   },
   "outputs": [
    {
     "name": "stdout",
     "output_type": "stream",
     "text": [
      "  % Total    % Received % Xferd  Average Speed   Time    Time     Time  Current\n",
      "                                 Dload  Upload   Total   Spent    Left  Speed\n",
      "100   142  100   142    0     0    490      0 --:--:-- --:--:-- --:--:--   491\n"
     ]
    }
   ],
   "source": [
    "# Download the dataset\n",
    "!curl -O https://www.kaggle.com/tmdb/tmdb-movie-metadata/downloads/tmdb-5000-movie-dataset.zip"
   ]
  },
  {
   "cell_type": "code",
   "execution_count": 4,
   "metadata": {
    "ExecuteTime": {
     "end_time": "2017-10-25T18:34:15.320825Z",
     "start_time": "2017-10-25T18:34:15.202749Z"
    }
   },
   "outputs": [
    {
     "name": "stdout",
     "output_type": "stream",
     "text": [
      "Archive:  tmdb-5000-movie-dataset.zip\r\n",
      "  End-of-central-directory signature not found.  Either this file is not\r\n",
      "  a zipfile, or it constitutes one disk of a multi-part archive.  In the\r\n",
      "  latter case the central directory and zipfile comment will be found on\r\n",
      "  the last disk(s) of this archive.\r\n",
      "unzip:  cannot find zipfile directory in one of tmdb-5000-movie-dataset.zip or\r\n",
      "        tmdb-5000-movie-dataset.zip.zip, and cannot find tmdb-5000-movie-dataset.zip.ZIP, period.\r\n"
     ]
    }
   ],
   "source": [
    "!unzip tmdb-5000-movie-dataset.zip"
   ]
  },
  {
   "cell_type": "code",
   "execution_count": null,
   "metadata": {},
   "outputs": [],
   "source": []
  }
 ],
 "metadata": {
  "celltoolbar": "Slideshow",
  "kernelspec": {
   "display_name": "Python 3",
   "language": "python",
   "name": "python3"
  },
  "language_info": {
   "codemirror_mode": {
    "name": "ipython",
    "version": 3
   },
   "file_extension": ".py",
   "mimetype": "text/x-python",
   "name": "python",
   "nbconvert_exporter": "python",
   "pygments_lexer": "ipython3",
   "version": "3.6.2"
  }
 },
 "nbformat": 4,
 "nbformat_minor": 2
}
