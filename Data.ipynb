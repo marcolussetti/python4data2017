{
 "cells": [
  {
   "cell_type": "markdown",
   "metadata": {
    "slideshow": {
     "slide_type": "slide"
    }
   },
   "source": [
    "# Data Manipulation in Python\n",
    "## Workflow\n",
    "This is only a sample, very basic workflow. There will be resources at the end for material that explores this subject in a lot more depth.\n",
    "\n",
    "There's a lot more that can be done, and a lot more tools that can be used.\n",
    "\n",
    "1. Download CSV\n",
    "1. Import data into a Pandas Dataframe\n",
    "1. Clean it up\n",
    "1. Extract slices of data\n",
    "1. Data Visualization (next section)"
   ]
  },
  {
   "cell_type": "markdown",
   "metadata": {
    "slideshow": {
     "slide_type": "slide"
    }
   },
   "source": [
    "## Downloading some interesting Data\n",
    "Datasets can come in many formats, notably as CSVs, Excel Files, connection to databases, SQLite Database files, HP5 files and so, so many others.\n",
    "We'll be using some simple CSV data.\n",
    "\n",
    "### Our dataset\n",
    "For this workshop, we'll be working with a dataset that's commonly used for these sort of tutorials. It's a database of the top 5000 movies from TMDb which is a more tolerant competitor to IMDb which doesn't send DMCA takedown requests to people who scrape their website."
   ]
  },
  {
   "cell_type": "code",
   "execution_count": 6,
   "metadata": {
    "ExecuteTime": {
     "end_time": "2017-10-25T18:59:09.717645Z",
     "start_time": "2017-10-25T18:59:09.366863Z"
    },
    "slideshow": {
     "slide_type": "slide"
    }
   },
   "outputs": [
    {
     "name": "stdout",
     "output_type": "stream",
     "text": [
      "mkdir: cannot create directory ‘sources’: File exists\n",
      "  % Total    % Received % Xferd  Average Speed   Time    Time     Time  Current\n",
      "                                 Dload  Upload   Total   Spent    Left  Speed\n",
      "100 9518k  100 9518k    0     0  80.2M      0 --:--:-- --:--:-- --:--:-- 81.5M\n"
     ]
    }
   ],
   "source": [
    "# Skip this section, data is provided\n",
    "!mkdir sources\n",
    "!curl -o sources/tmdb-5000-movie-dataset.zip https://marcolussetti.com/workshops/python4data2017/sources/tmdb-5000-movie-dataset.zip"
   ]
  },
  {
   "cell_type": "code",
   "execution_count": 8,
   "metadata": {
    "ExecuteTime": {
     "end_time": "2017-10-25T19:00:31.874336Z",
     "start_time": "2017-10-25T19:00:11.659408Z"
    }
   },
   "outputs": [
    {
     "name": "stdout",
     "output_type": "stream",
     "text": [
      "Archive:  sources/tmdb-5000-movie-dataset.zip\n",
      "replace sources/tmdb_5000_credits.csv? [y]es, [n]o, [A]ll, [N]one, [r]ename: ^C\n"
     ]
    }
   ],
   "source": [
    "!unzip sources/tmdb-5000-movie-dataset.zip -d sources/"
   ]
  },
  {
   "cell_type": "code",
   "execution_count": 9,
   "metadata": {
    "ExecuteTime": {
     "end_time": "2017-10-25T19:00:54.331313Z",
     "start_time": "2017-10-25T19:00:54.214287Z"
    }
   },
   "outputs": [
    {
     "name": "stdout",
     "output_type": "stream",
     "text": [
      "sources/tmdb_5000_credits.csv  sources/tmdb_5000_movies.csv\r\n"
     ]
    }
   ],
   "source": [
    "!ls sources/*.csv"
   ]
  },
  {
   "cell_type": "code",
   "execution_count": null,
   "metadata": {},
   "outputs": [],
   "source": []
  }
 ],
 "metadata": {
  "celltoolbar": "Slideshow",
  "kernelspec": {
   "display_name": "Python 3",
   "language": "python",
   "name": "python3"
  },
  "language_info": {
   "codemirror_mode": {
    "name": "ipython",
    "version": 3
   },
   "file_extension": ".py",
   "mimetype": "text/x-python",
   "name": "python",
   "nbconvert_exporter": "python",
   "pygments_lexer": "ipython3",
   "version": "3.6.2"
  }
 },
 "nbformat": 4,
 "nbformat_minor": 2
}
